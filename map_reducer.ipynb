{
 "cells": [
  {
   "cell_type": "code",
   "execution_count": 1,
   "metadata": {},
   "outputs": [],
   "source": [
    "def mapper(filename):\n",
    "    \"\"\"\n",
    "    Lê o arquivo de texto e retorna uma lista de tuplas no formato (palavra, 1).\n",
    "    \"\"\"\n",
    "    word_tuples = []\n",
    "    with open(filename, 'r', encoding='utf-8') as file:\n",
    "        for line in file:\n",
    "            words = line.strip().split()\n",
    "            for word in words:\n",
    "                word_tuples.append((word, 1))\n",
    "    return word_tuples\n",
    "\n",
    "file = 'Beyond Good and Evil - Friedrich Nietzsche.txt'\n",
    "\n",
    "word_tuples = mapper(file)"
   ]
  },
  {
   "cell_type": "code",
   "execution_count": 7,
   "metadata": {},
   "outputs": [],
   "source": [
    "def partitioner(word_tuples):\n",
    "    \"\"\"\n",
    "    Recebe uma lista de tuplas do mapper e retorna uma lista de tuplas\n",
    "    contendo as palavras e suas contagens em listas.\n",
    "    \"\"\"\n",
    "    partitioned_data = {}\n",
    "    for word, count in word_tuples:\n",
    "        if word in partitioned_data:\n",
    "            partitioned_data[word].append(count)\n",
    "        else:\n",
    "            partitioned_data[word] = [count]\n",
    "    \n",
    "    return list(partitioned_data.items())\n",
    "\n",
    "partition = partitioner(word_tuples)"
   ]
  },
  {
   "cell_type": "code",
   "execution_count": 9,
   "metadata": {},
   "outputs": [],
   "source": [
    "def reducer(partitioned_data):\n",
    "    \"\"\"\n",
    "    Recebe uma lista de tuplas no formato ('palavra', [1, 1, ...]) e retorna\n",
    "    uma lista de tuplas no formato ('palavra', contagem_ocorrencias).\n",
    "    \"\"\"\n",
    "    reduced_data = []\n",
    "    for word, counts in partitioned_data:\n",
    "        total_count = sum(counts)\n",
    "        reduced_data.append((word, total_count))\n",
    "    \n",
    "    return reduced_data\n",
    "\n",
    "reduced_data = reducer(partition)"
   ]
  },
  {
   "cell_type": "code",
   "execution_count": 10,
   "metadata": {},
   "outputs": [
    {
     "data": {
      "text/plain": [
       "[('\\ufeffThe', 1),\n",
       " ('Project', 78),\n",
       " ('Gutenberg', 20),\n",
       " ('EBook', 1),\n",
       " ('of', 2811),\n",
       " ('Beyond', 3),\n",
       " ('Good', 7),\n",
       " ('and', 2542),\n",
       " ('Evil,', 2),\n",
       " ('by', 228),\n",
       " ('Friedrich', 5),\n",
       " ('Nietzsche', 6),\n",
       " ('This', 27),\n",
       " ('eBook', 5),\n",
       " ('is', 1117)]"
      ]
     },
     "execution_count": 10,
     "metadata": {},
     "output_type": "execute_result"
    }
   ],
   "source": [
    "reduced_data[:15]"
   ]
  }
 ],
 "metadata": {
  "kernelspec": {
   "display_name": "Python 3",
   "language": "python",
   "name": "python3"
  },
  "language_info": {
   "codemirror_mode": {
    "name": "ipython",
    "version": 3
   },
   "file_extension": ".py",
   "mimetype": "text/x-python",
   "name": "python",
   "nbconvert_exporter": "python",
   "pygments_lexer": "ipython3",
   "version": "3.10.12"
  }
 },
 "nbformat": 4,
 "nbformat_minor": 2
}
